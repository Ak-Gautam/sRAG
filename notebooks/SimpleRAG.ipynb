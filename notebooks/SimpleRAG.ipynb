{
 "cells": [
  {
   "cell_type": "code",
   "execution_count": null,
   "metadata": {},
   "outputs": [],
   "source": [
    "corpus_of_documents = [\n",
    "    \"Take a leisurely walk in the park and enjoy the fresh air.\",\n",
    "    \"Visit a local museum and discover something new about history, art, or science.\",\n",
    "    \"Attend a live music concert and feel the rhythm of your favorite genre, be it rock, jazz, or classical.\",\n",
    "    \"Go for a hike in nature and admire the beauty of the natural scenery, from mountains and forests to deserts and beaches.\",\n",
    "    \"Have a picnic with friends and share some laughs, good food, and great company in the outdoors.\",\n",
    "    \"Explore a new cuisine by dining at an ethnic restaurant and tantalize your taste buds with exotic flavors.\",\n",
    "    \"Take a yoga class and stretch your body and mind, promoting relaxation and inner peace.\",\n",
    "    \"Join a local sports league and enjoy some friendly competition, while getting exercise and socializing with others who share your passion for the sport.\",\n",
    "    \"Attend a workshop or lecture on a topic you're interested in, to expand your knowledge and gain new skills.\",\n",
    "    \"Visit an amusement park and experience the thrill of riding roller coasters, bumper cars, and other exciting attractions.\",\n",
    "    \"Go stargazing on a clear night and marvel at the wonders of the universe.\",\n",
    "    \"Volunteer at a local charity and give back to your community.\",\n",
    "    \"Learn a new language and open yourself up to new cultures and experiences.\",\n",
    "    \"Take a road trip and explore new places, experiencing the beauty and diversity of the world around you.\",\n",
    "    \"Go camping under the stars and reconnect with nature.\",\n",
    "    \"Read a book and get lost in a captivating story.\",\n",
    "    \"Binge-watch a tv show or movie series and enjoy a relaxing escape.\",\n",
    "    \"Try a new hobby or activity, like painting, pottery, or playing a musical instrument.\",\n",
    "    \"Spend time with loved ones and create lasting memories.\",\n",
    "    \"Take a relaxing bath and unwind after a long day.\"\n",
    "]"
   ]
  },
  {
   "cell_type": "code",
   "execution_count": null,
   "metadata": {},
   "outputs": [],
   "source": [
    "import numpy as np\n",
    "from collections import Counter"
   ]
  },
  {
   "cell_type": "code",
   "execution_count": null,
   "metadata": {},
   "outputs": [],
   "source": [
    "def cosine_similarity(query, document):\n",
    "    # Tokenize and count words\n",
    "    query_counts = Counter(query.lower().split())\n",
    "    doc_counts = Counter(document.lower().split())\n",
    "    \n",
    "    # Get the union of words\n",
    "    all_words = set(query_counts.keys()) | set(doc_counts.keys())\n",
    "    \n",
    "    # Create vectors\n",
    "    query_vec = np.array([query_counts.get(word, 0) for word in all_words])\n",
    "    doc_vec = np.array([doc_counts.get(word, 0) for word in all_words])\n",
    "    \n",
    "    # Compute dot product and norms\n",
    "    dot_product = np.dot(query_vec, doc_vec)\n",
    "    norm_query = np.linalg.norm(query_vec)\n",
    "    norm_document = np.linalg.norm(doc_vec)\n",
    "    \n",
    "    # Compute and return the cosine similarity\n",
    "    if norm_query == 0 or norm_document == 0:\n",
    "        return 0.0  # Handle edge case where one vector is zero\n",
    "    return dot_product / (norm_query * norm_document)"
   ]
  },
  {
   "cell_type": "code",
   "execution_count": null,
   "metadata": {},
   "outputs": [],
   "source": [
    "def return_response(query, corpus):\n",
    "    similarities = []\n",
    "    for doc in corpus:\n",
    "        similarity = cosine_similarity(user_input, doc)\n",
    "        similarities.append(similarity)\n",
    "    return corpus_of_documents[similarities.index(max(similarities))]"
   ]
  },
  {
   "cell_type": "code",
   "execution_count": null,
   "metadata": {},
   "outputs": [],
   "source": [
    "user_input = \"I like to hike\"\n",
    "return_response(user_input, corpus_of_documents)"
   ]
  }
 ],
 "metadata": {
  "language_info": {
   "name": "python"
  }
 },
 "nbformat": 4,
 "nbformat_minor": 2
}
